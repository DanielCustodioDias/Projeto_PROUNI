{
 "cells": [
  {
   "cell_type": "markdown",
   "metadata": {},
   "source": [
    "# Tratamento dos dados - Prouni 2005/2019\n",
    "\n",
    "- [Importando bibliotecas](#import_bibli)\n",
    "\n",
    "- [Leitura dataframe](#read_csv)\n",
    "\n",
    "- [Informações do dataframe](#info_df) \n",
    "\n",
    "- [Tratamento dos dados](#trat_data) \n",
    "\n",
    "- [Exportando dados](#exp_data)"
   ]
  },
  {
   "cell_type": "markdown",
   "metadata": {},
   "source": [
    "## Importando bibliotecas\n",
    "\n",
    "<a id=\"import_bibli\"></a>"
   ]
  },
  {
   "cell_type": "code",
   "execution_count": 2,
   "metadata": {},
   "outputs": [],
   "source": [
    "import pandas as pd\n",
    "import numpy as np"
   ]
  },
  {
   "cell_type": "markdown",
   "metadata": {},
   "source": [
    "## Leitura do dataframe\n",
    "<a id=\"read_csv\"></a>"
   ]
  },
  {
   "cell_type": "code",
   "execution_count": 24,
   "metadata": {},
   "outputs": [
    {
     "data": {
      "text/html": [
       "<div>\n",
       "<style scoped>\n",
       "    .dataframe tbody tr th:only-of-type {\n",
       "        vertical-align: middle;\n",
       "    }\n",
       "\n",
       "    .dataframe tbody tr th {\n",
       "        vertical-align: top;\n",
       "    }\n",
       "\n",
       "    .dataframe thead th {\n",
       "        text-align: right;\n",
       "    }\n",
       "</style>\n",
       "<table border=\"1\" class=\"dataframe\">\n",
       "  <thead>\n",
       "    <tr style=\"text-align: right;\">\n",
       "      <th></th>\n",
       "      <th>ANO_CONCESSAO_BOLSA</th>\n",
       "      <th>CODIGO_EMEC_IES_BOLSA</th>\n",
       "      <th>NOME_IES_BOLSA</th>\n",
       "      <th>TIPO_BOLSA</th>\n",
       "      <th>MODALIDADE_ENSINO_BOLSA</th>\n",
       "      <th>NOME_CURSO_BOLSA</th>\n",
       "      <th>NOME_TURNO_CURSO_BOLSA</th>\n",
       "      <th>CPF_BENEFICIARIO_BOLSA</th>\n",
       "      <th>SEXO_BENEFICIARIO_BOLSA</th>\n",
       "      <th>RACA_BENEFICIARIO_BOLSA</th>\n",
       "      <th>DT_NASCIMENTO_BENEFICIARIO</th>\n",
       "      <th>BENEFICIARIO_DEFICIENTE_FISICO</th>\n",
       "      <th>REGIAO_BENEFICIARIO_BOLSA</th>\n",
       "      <th>SIGLA_UF_BENEFICIARIO_BOLSA</th>\n",
       "      <th>MUNICIPIO_BENEFICIARIO_BOLSA</th>\n",
       "      <th>idade</th>\n",
       "    </tr>\n",
       "  </thead>\n",
       "  <tbody>\n",
       "    <tr>\n",
       "      <th>0</th>\n",
       "      <td>2005</td>\n",
       "      <td>423</td>\n",
       "      <td>UNIVERSIDADE REGIONAL INTEGRADA DO ALTO URUGUA...</td>\n",
       "      <td>BOLSA PARCIAL 50%</td>\n",
       "      <td>PRESENCIAL</td>\n",
       "      <td>Enfermagem</td>\n",
       "      <td>Integral</td>\n",
       "      <td>***264740**</td>\n",
       "      <td>F</td>\n",
       "      <td>Branca</td>\n",
       "      <td>1987-02-17</td>\n",
       "      <td>nao</td>\n",
       "      <td>SUL</td>\n",
       "      <td>RS</td>\n",
       "      <td>santo angelo</td>\n",
       "      <td>34.0</td>\n",
       "    </tr>\n",
       "    <tr>\n",
       "      <th>1</th>\n",
       "      <td>2005</td>\n",
       "      <td>423</td>\n",
       "      <td>UNIVERSIDADE REGIONAL INTEGRADA DO ALTO URUGUA...</td>\n",
       "      <td>BOLSA PARCIAL 50%</td>\n",
       "      <td>PRESENCIAL</td>\n",
       "      <td>Servico Social</td>\n",
       "      <td>Noturno</td>\n",
       "      <td>***976940**</td>\n",
       "      <td>F</td>\n",
       "      <td>Parda</td>\n",
       "      <td>1986-06-14</td>\n",
       "      <td>nao</td>\n",
       "      <td>SUL</td>\n",
       "      <td>RS</td>\n",
       "      <td>frederico westphalen</td>\n",
       "      <td>35.0</td>\n",
       "    </tr>\n",
       "    <tr>\n",
       "      <th>2</th>\n",
       "      <td>2005</td>\n",
       "      <td>423</td>\n",
       "      <td>UNIVERSIDADE REGIONAL INTEGRADA DO ALTO URUGUA...</td>\n",
       "      <td>BOLSA PARCIAL 50%</td>\n",
       "      <td>PRESENCIAL</td>\n",
       "      <td>Servico Social</td>\n",
       "      <td>Noturno</td>\n",
       "      <td>***045340**</td>\n",
       "      <td>F</td>\n",
       "      <td>Parda</td>\n",
       "      <td>1984-06-03</td>\n",
       "      <td>nao</td>\n",
       "      <td>SUL</td>\n",
       "      <td>RS</td>\n",
       "      <td>frederico westphalen</td>\n",
       "      <td>37.0</td>\n",
       "    </tr>\n",
       "    <tr>\n",
       "      <th>3</th>\n",
       "      <td>2005</td>\n",
       "      <td>423</td>\n",
       "      <td>UNIVERSIDADE REGIONAL INTEGRADA DO ALTO URUGUA...</td>\n",
       "      <td>BOLSA PARCIAL 50%</td>\n",
       "      <td>PRESENCIAL</td>\n",
       "      <td>Ciencia Da Computacao</td>\n",
       "      <td>Noturno</td>\n",
       "      <td>***988420**</td>\n",
       "      <td>M</td>\n",
       "      <td>Branca</td>\n",
       "      <td>1987-10-19</td>\n",
       "      <td>nao</td>\n",
       "      <td>SUL</td>\n",
       "      <td>RS</td>\n",
       "      <td>frederico westphalen</td>\n",
       "      <td>33.0</td>\n",
       "    </tr>\n",
       "    <tr>\n",
       "      <th>4</th>\n",
       "      <td>2005</td>\n",
       "      <td>423</td>\n",
       "      <td>UNIVERSIDADE REGIONAL INTEGRADA DO ALTO URUGUA...</td>\n",
       "      <td>BOLSA PARCIAL 50%</td>\n",
       "      <td>PRESENCIAL</td>\n",
       "      <td>Ciencia Da Computacao</td>\n",
       "      <td>Noturno</td>\n",
       "      <td>***378080**</td>\n",
       "      <td>M</td>\n",
       "      <td>Amarela</td>\n",
       "      <td>1987-07-20</td>\n",
       "      <td>nao</td>\n",
       "      <td>SUL</td>\n",
       "      <td>RS</td>\n",
       "      <td>frederico westphalen</td>\n",
       "      <td>34.0</td>\n",
       "    </tr>\n",
       "  </tbody>\n",
       "</table>\n",
       "</div>"
      ],
      "text/plain": [
       "   ANO_CONCESSAO_BOLSA  CODIGO_EMEC_IES_BOLSA  \\\n",
       "0                 2005                    423   \n",
       "1                 2005                    423   \n",
       "2                 2005                    423   \n",
       "3                 2005                    423   \n",
       "4                 2005                    423   \n",
       "\n",
       "                                      NOME_IES_BOLSA         TIPO_BOLSA  \\\n",
       "0  UNIVERSIDADE REGIONAL INTEGRADA DO ALTO URUGUA...  BOLSA PARCIAL 50%   \n",
       "1  UNIVERSIDADE REGIONAL INTEGRADA DO ALTO URUGUA...  BOLSA PARCIAL 50%   \n",
       "2  UNIVERSIDADE REGIONAL INTEGRADA DO ALTO URUGUA...  BOLSA PARCIAL 50%   \n",
       "3  UNIVERSIDADE REGIONAL INTEGRADA DO ALTO URUGUA...  BOLSA PARCIAL 50%   \n",
       "4  UNIVERSIDADE REGIONAL INTEGRADA DO ALTO URUGUA...  BOLSA PARCIAL 50%   \n",
       "\n",
       "  MODALIDADE_ENSINO_BOLSA       NOME_CURSO_BOLSA NOME_TURNO_CURSO_BOLSA  \\\n",
       "0              PRESENCIAL             Enfermagem               Integral   \n",
       "1              PRESENCIAL         Servico Social                Noturno   \n",
       "2              PRESENCIAL         Servico Social                Noturno   \n",
       "3              PRESENCIAL  Ciencia Da Computacao                Noturno   \n",
       "4              PRESENCIAL  Ciencia Da Computacao                Noturno   \n",
       "\n",
       "  CPF_BENEFICIARIO_BOLSA SEXO_BENEFICIARIO_BOLSA RACA_BENEFICIARIO_BOLSA  \\\n",
       "0            ***264740**                       F                  Branca   \n",
       "1            ***976940**                       F                   Parda   \n",
       "2            ***045340**                       F                   Parda   \n",
       "3            ***988420**                       M                  Branca   \n",
       "4            ***378080**                       M                 Amarela   \n",
       "\n",
       "  DT_NASCIMENTO_BENEFICIARIO BENEFICIARIO_DEFICIENTE_FISICO  \\\n",
       "0                 1987-02-17                            nao   \n",
       "1                 1986-06-14                            nao   \n",
       "2                 1984-06-03                            nao   \n",
       "3                 1987-10-19                            nao   \n",
       "4                 1987-07-20                            nao   \n",
       "\n",
       "  REGIAO_BENEFICIARIO_BOLSA SIGLA_UF_BENEFICIARIO_BOLSA  \\\n",
       "0                       SUL                          RS   \n",
       "1                       SUL                          RS   \n",
       "2                       SUL                          RS   \n",
       "3                       SUL                          RS   \n",
       "4                       SUL                          RS   \n",
       "\n",
       "  MUNICIPIO_BENEFICIARIO_BOLSA  idade  \n",
       "0                 santo angelo   34.0  \n",
       "1         frederico westphalen   35.0  \n",
       "2         frederico westphalen   37.0  \n",
       "3         frederico westphalen   33.0  \n",
       "4         frederico westphalen   34.0  "
      ]
     },
     "execution_count": 24,
     "metadata": {},
     "output_type": "execute_result"
    }
   ],
   "source": [
    "df = pd.read_csv('..\\..\\dados\\prouni_2005_2019.csv')\n",
    "df.head()"
   ]
  },
  {
   "cell_type": "markdown",
   "metadata": {},
   "source": [
    "## Informações do dataframe\n",
    "\n",
    "<a id=\"info_df\"></a>"
   ]
  },
  {
   "cell_type": "code",
   "execution_count": 26,
   "metadata": {},
   "outputs": [
    {
     "name": "stdout",
     "output_type": "stream",
     "text": [
      "<class 'pandas.core.frame.DataFrame'>\n",
      "RangeIndex: 2692540 entries, 0 to 2692539\n",
      "Data columns (total 16 columns):\n",
      " #   Column                          Dtype  \n",
      "---  ------                          -----  \n",
      " 0   ANO_CONCESSAO_BOLSA             int64  \n",
      " 1   CODIGO_EMEC_IES_BOLSA           int64  \n",
      " 2   NOME_IES_BOLSA                  object \n",
      " 3   TIPO_BOLSA                      object \n",
      " 4   MODALIDADE_ENSINO_BOLSA         object \n",
      " 5   NOME_CURSO_BOLSA                object \n",
      " 6   NOME_TURNO_CURSO_BOLSA          object \n",
      " 7   CPF_BENEFICIARIO_BOLSA          object \n",
      " 8   SEXO_BENEFICIARIO_BOLSA         object \n",
      " 9   RACA_BENEFICIARIO_BOLSA         object \n",
      " 10  DT_NASCIMENTO_BENEFICIARIO      object \n",
      " 11  BENEFICIARIO_DEFICIENTE_FISICO  object \n",
      " 12  REGIAO_BENEFICIARIO_BOLSA       object \n",
      " 13  SIGLA_UF_BENEFICIARIO_BOLSA     object \n",
      " 14  MUNICIPIO_BENEFICIARIO_BOLSA    object \n",
      " 15  idade                           float64\n",
      "dtypes: float64(1), int64(2), object(13)\n",
      "memory usage: 328.7+ MB\n"
     ]
    }
   ],
   "source": [
    "df.info()"
   ]
  },
  {
   "cell_type": "code",
   "execution_count": 27,
   "metadata": {},
   "outputs": [
    {
     "data": {
      "text/html": [
       "<div>\n",
       "<style scoped>\n",
       "    .dataframe tbody tr th:only-of-type {\n",
       "        vertical-align: middle;\n",
       "    }\n",
       "\n",
       "    .dataframe tbody tr th {\n",
       "        vertical-align: top;\n",
       "    }\n",
       "\n",
       "    .dataframe thead th {\n",
       "        text-align: right;\n",
       "    }\n",
       "</style>\n",
       "<table border=\"1\" class=\"dataframe\">\n",
       "  <thead>\n",
       "    <tr style=\"text-align: right;\">\n",
       "      <th></th>\n",
       "      <th>ANO_CONCESSAO_BOLSA</th>\n",
       "      <th>CODIGO_EMEC_IES_BOLSA</th>\n",
       "      <th>idade</th>\n",
       "    </tr>\n",
       "  </thead>\n",
       "  <tbody>\n",
       "    <tr>\n",
       "      <th>count</th>\n",
       "      <td>2.692540e+06</td>\n",
       "      <td>2.692540e+06</td>\n",
       "      <td>2.692540e+06</td>\n",
       "    </tr>\n",
       "    <tr>\n",
       "      <th>mean</th>\n",
       "      <td>2.013202e+03</td>\n",
       "      <td>1.557752e+03</td>\n",
       "      <td>3.137911e+01</td>\n",
       "    </tr>\n",
       "    <tr>\n",
       "      <th>std</th>\n",
       "      <td>4.060982e+00</td>\n",
       "      <td>2.423453e+03</td>\n",
       "      <td>7.974098e+00</td>\n",
       "    </tr>\n",
       "    <tr>\n",
       "      <th>min</th>\n",
       "      <td>2.005000e+03</td>\n",
       "      <td>1.000000e+01</td>\n",
       "      <td>2.000000e+00</td>\n",
       "    </tr>\n",
       "    <tr>\n",
       "      <th>25%</th>\n",
       "      <td>2.010000e+03</td>\n",
       "      <td>3.220000e+02</td>\n",
       "      <td>2.500000e+01</td>\n",
       "    </tr>\n",
       "    <tr>\n",
       "      <th>50%</th>\n",
       "      <td>2.014000e+03</td>\n",
       "      <td>8.020000e+02</td>\n",
       "      <td>3.000000e+01</td>\n",
       "    </tr>\n",
       "    <tr>\n",
       "      <th>75%</th>\n",
       "      <td>2.017000e+03</td>\n",
       "      <td>1.742000e+03</td>\n",
       "      <td>3.500000e+01</td>\n",
       "    </tr>\n",
       "    <tr>\n",
       "      <th>max</th>\n",
       "      <td>2.019000e+03</td>\n",
       "      <td>2.251400e+04</td>\n",
       "      <td>1.500000e+02</td>\n",
       "    </tr>\n",
       "  </tbody>\n",
       "</table>\n",
       "</div>"
      ],
      "text/plain": [
       "       ANO_CONCESSAO_BOLSA  CODIGO_EMEC_IES_BOLSA         idade\n",
       "count         2.692540e+06           2.692540e+06  2.692540e+06\n",
       "mean          2.013202e+03           1.557752e+03  3.137911e+01\n",
       "std           4.060982e+00           2.423453e+03  7.974098e+00\n",
       "min           2.005000e+03           1.000000e+01  2.000000e+00\n",
       "25%           2.010000e+03           3.220000e+02  2.500000e+01\n",
       "50%           2.014000e+03           8.020000e+02  3.000000e+01\n",
       "75%           2.017000e+03           1.742000e+03  3.500000e+01\n",
       "max           2.019000e+03           2.251400e+04  1.500000e+02"
      ]
     },
     "execution_count": 27,
     "metadata": {},
     "output_type": "execute_result"
    }
   ],
   "source": [
    "df.describe()"
   ]
  },
  {
   "cell_type": "code",
   "execution_count": 28,
   "metadata": {},
   "outputs": [
    {
     "data": {
      "text/plain": [
       "(2692540, 16)"
      ]
     },
     "execution_count": 28,
     "metadata": {},
     "output_type": "execute_result"
    }
   ],
   "source": [
    "df.shape"
   ]
  },
  {
   "cell_type": "code",
   "execution_count": 29,
   "metadata": {},
   "outputs": [
    {
     "data": {
      "text/plain": [
       "ANO_CONCESSAO_BOLSA                  0\n",
       "CODIGO_EMEC_IES_BOLSA                0\n",
       "NOME_IES_BOLSA                     489\n",
       "TIPO_BOLSA                           0\n",
       "MODALIDADE_ENSINO_BOLSA              0\n",
       "NOME_CURSO_BOLSA                  5654\n",
       "NOME_TURNO_CURSO_BOLSA               0\n",
       "CPF_BENEFICIARIO_BOLSA               0\n",
       "SEXO_BENEFICIARIO_BOLSA              0\n",
       "RACA_BENEFICIARIO_BOLSA              0\n",
       "DT_NASCIMENTO_BENEFICIARIO           0\n",
       "BENEFICIARIO_DEFICIENTE_FISICO       0\n",
       "REGIAO_BENEFICIARIO_BOLSA          402\n",
       "SIGLA_UF_BENEFICIARIO_BOLSA        402\n",
       "MUNICIPIO_BENEFICIARIO_BOLSA       402\n",
       "idade                                0\n",
       "dtype: int64"
      ]
     },
     "execution_count": 29,
     "metadata": {},
     "output_type": "execute_result"
    }
   ],
   "source": [
    "df.isnull().sum()"
   ]
  },
  {
   "cell_type": "code",
   "execution_count": 30,
   "metadata": {},
   "outputs": [
    {
     "data": {
      "text/plain": [
       "ANO_CONCESSAO_BOLSA                    15\n",
       "CODIGO_EMEC_IES_BOLSA                2147\n",
       "NOME_IES_BOLSA                       2767\n",
       "TIPO_BOLSA                              3\n",
       "MODALIDADE_ENSINO_BOLSA                 2\n",
       "NOME_CURSO_BOLSA                     3644\n",
       "NOME_TURNO_CURSO_BOLSA                  5\n",
       "CPF_BENEFICIARIO_BOLSA            1316468\n",
       "SEXO_BENEFICIARIO_BOLSA                 2\n",
       "RACA_BENEFICIARIO_BOLSA                 6\n",
       "DT_NASCIMENTO_BENEFICIARIO          31729\n",
       "BENEFICIARIO_DEFICIENTE_FISICO          2\n",
       "REGIAO_BENEFICIARIO_BOLSA               5\n",
       "SIGLA_UF_BENEFICIARIO_BOLSA            27\n",
       "MUNICIPIO_BENEFICIARIO_BOLSA         5318\n",
       "idade                                 107\n",
       "dtype: int64"
      ]
     },
     "execution_count": 30,
     "metadata": {},
     "output_type": "execute_result"
    }
   ],
   "source": [
    "df.nunique()"
   ]
  },
  {
   "cell_type": "code",
   "execution_count": 31,
   "metadata": {},
   "outputs": [
    {
     "data": {
      "text/plain": [
       "Index(['ANO_CONCESSAO_BOLSA', 'CODIGO_EMEC_IES_BOLSA', 'NOME_IES_BOLSA',\n",
       "       'TIPO_BOLSA', 'MODALIDADE_ENSINO_BOLSA', 'NOME_CURSO_BOLSA',\n",
       "       'NOME_TURNO_CURSO_BOLSA', 'CPF_BENEFICIARIO_BOLSA',\n",
       "       'SEXO_BENEFICIARIO_BOLSA', 'RACA_BENEFICIARIO_BOLSA',\n",
       "       'DT_NASCIMENTO_BENEFICIARIO', 'BENEFICIARIO_DEFICIENTE_FISICO',\n",
       "       'REGIAO_BENEFICIARIO_BOLSA', 'SIGLA_UF_BENEFICIARIO_BOLSA',\n",
       "       'MUNICIPIO_BENEFICIARIO_BOLSA', 'idade'],\n",
       "      dtype='object')"
      ]
     },
     "execution_count": 31,
     "metadata": {},
     "output_type": "execute_result"
    }
   ],
   "source": [
    "df.columns"
   ]
  },
  {
   "cell_type": "markdown",
   "metadata": {},
   "source": [
    "## Tratamento dos dados\n",
    "<a id=\"trat_data\"></a>\n",
    "\n",
    "[Tratamento 1](#tratamento-1) - Alterar nomes das colunas\n",
    "\n",
    "[Tratamento 2](#tratamento-2) - Transformar \"BENEFICIARIO_DEFICIENTE_FISICO\" em bool\n",
    "\n",
    "[Tratamento 3](#tratamento-3) - Tratar Missings\n",
    "\n",
    "[Tratamento 4](#tratamento-4) - Criar LabelEncoder para variáveis catóricas\n",
    "\n",
    "[Tratamento 5](#tratamento-5) - Verificar coluna \"NOME_CURSO_BOLSA\"\n",
    "\n",
    "[Tratamento 6](#tratamento-6)\n",
    "\n",
    "[Tratamento 7](#tratamento-7)"
   ]
  },
  {
   "cell_type": "markdown",
   "metadata": {},
   "source": [
    "### Tratamento 1\n",
    "<a id=\"tratamento-1\"></a>\n"
   ]
  },
  {
   "cell_type": "markdown",
   "metadata": {},
   "source": [
    "#### Relação das colunas"
   ]
  },
  {
   "cell_type": "markdown",
   "metadata": {},
   "source": [
    "| Colunas Antigas                  | Colunas Novas              |\n",
    "|----------------------------------|----------------------------|\n",
    "| ANO_CONCESSAO_BOLSA               | ano                        |\n",
    "| CODIGO_EMEC_IES_BOLSA             | codigo_emec                |\n",
    "| NOME_IES_BOLSA                   | nome_bolsa                 |\n",
    "| TIPO_BOLSA                       | tipo_bolsa                 |\n",
    "| MODALIDADE_ENSINO_BOLSA           | modalidade_ensino          |\n",
    "| NOME_CURSO_BOLSA                 | curso                      |\n",
    "| NOME_TURNO_CURSO_BOLSA            | turno                      |\n",
    "| CPF_BENEFICIARIO_BOLSA            | cpf_beneficiario           |\n",
    "| SEXO_BENEFICIARIO_BOLSA           | sexo_beneficiario          |\n",
    "| RACA_BENEFICIARIO_BOLSA           | raca_beneficiario          |\n",
    "| DT_NASCIMENTO_BENEFICIARIO        | dt_nascimento_beneficiario |\n",
    "| BENEFICIARIO_DEFICIENTE_FISICO    | pcd                        |\n",
    "| REGIAO_BENEFICIARIO_BOLSA         | regiao                     |\n",
    "| SIGLA_UF_BENEFICIARIO_BOLSA       | sigla_uf                   |\n",
    "| MUNICIPIO_BENEFICIARIO_BOLSA      | municipio                  |\n",
    "| idade                            | idade                      |\n",
    "\n"
   ]
  },
  {
   "cell_type": "markdown",
   "metadata": {},
   "source": [
    "#### Código de alteração"
   ]
  },
  {
   "cell_type": "code",
   "execution_count": 32,
   "metadata": {},
   "outputs": [
    {
     "data": {
      "text/plain": [
       "['ano_concessao_bolsa',\n",
       " 'codigo_emec_ies_bolsa',\n",
       " 'nome_ies_bolsa',\n",
       " 'tipo_bolsa',\n",
       " 'modalidade_ensino_bolsa',\n",
       " 'nome_curso_bolsa',\n",
       " 'nome_turno_curso_bolsa',\n",
       " 'cpf_beneficiario_bolsa',\n",
       " 'sexo_beneficiario_bolsa',\n",
       " 'raca_beneficiario_bolsa',\n",
       " 'dt_nascimento_beneficiario',\n",
       " 'beneficiario_deficiente_fisico',\n",
       " 'regiao_beneficiario_bolsa',\n",
       " 'sigla_uf_beneficiario_bolsa',\n",
       " 'municipio_beneficiario_bolsa',\n",
       " 'idade']"
      ]
     },
     "execution_count": 32,
     "metadata": {},
     "output_type": "execute_result"
    }
   ],
   "source": [
    "colunas = [coluna.lower() for coluna in df.columns]\n",
    "colunas"
   ]
  },
  {
   "cell_type": "code",
   "execution_count": 33,
   "metadata": {},
   "outputs": [],
   "source": [
    "novas_colunas = ['ano', 'codigo_emec', 'universidade', 'tipo_bolsa', 'modalidade_ensino', 'curso', 'turno', 'cpf_beneficiario', 'sexo_beneficiario',\n",
    " 'raca_beneficiario', 'dt_nascimento_beneficiario', 'pcd', 'regiao', 'sigla_uf', 'municipio', 'idade']\n",
    "\n",
    "df.columns = novas_colunas"
   ]
  },
  {
   "cell_type": "code",
   "execution_count": 34,
   "metadata": {},
   "outputs": [
    {
     "data": {
      "text/plain": [
       "Index(['ano', 'codigo_emec', 'universidade', 'tipo_bolsa', 'modalidade_ensino',\n",
       "       'curso', 'turno', 'cpf_beneficiario', 'sexo_beneficiario',\n",
       "       'raca_beneficiario', 'dt_nascimento_beneficiario', 'pcd', 'regiao',\n",
       "       'sigla_uf', 'municipio', 'idade'],\n",
       "      dtype='object')"
      ]
     },
     "execution_count": 34,
     "metadata": {},
     "output_type": "execute_result"
    }
   ],
   "source": [
    "df.columns"
   ]
  },
  {
   "cell_type": "code",
   "execution_count": 35,
   "metadata": {},
   "outputs": [
    {
     "data": {
      "text/html": [
       "<div>\n",
       "<style scoped>\n",
       "    .dataframe tbody tr th:only-of-type {\n",
       "        vertical-align: middle;\n",
       "    }\n",
       "\n",
       "    .dataframe tbody tr th {\n",
       "        vertical-align: top;\n",
       "    }\n",
       "\n",
       "    .dataframe thead th {\n",
       "        text-align: right;\n",
       "    }\n",
       "</style>\n",
       "<table border=\"1\" class=\"dataframe\">\n",
       "  <thead>\n",
       "    <tr style=\"text-align: right;\">\n",
       "      <th></th>\n",
       "      <th>ano</th>\n",
       "      <th>codigo_emec</th>\n",
       "      <th>universidade</th>\n",
       "      <th>tipo_bolsa</th>\n",
       "      <th>modalidade_ensino</th>\n",
       "      <th>curso</th>\n",
       "      <th>turno</th>\n",
       "      <th>cpf_beneficiario</th>\n",
       "      <th>sexo_beneficiario</th>\n",
       "      <th>raca_beneficiario</th>\n",
       "      <th>dt_nascimento_beneficiario</th>\n",
       "      <th>pcd</th>\n",
       "      <th>regiao</th>\n",
       "      <th>sigla_uf</th>\n",
       "      <th>municipio</th>\n",
       "      <th>idade</th>\n",
       "    </tr>\n",
       "  </thead>\n",
       "  <tbody>\n",
       "    <tr>\n",
       "      <th>0</th>\n",
       "      <td>2005</td>\n",
       "      <td>423</td>\n",
       "      <td>UNIVERSIDADE REGIONAL INTEGRADA DO ALTO URUGUA...</td>\n",
       "      <td>BOLSA PARCIAL 50%</td>\n",
       "      <td>PRESENCIAL</td>\n",
       "      <td>Enfermagem</td>\n",
       "      <td>Integral</td>\n",
       "      <td>***264740**</td>\n",
       "      <td>F</td>\n",
       "      <td>Branca</td>\n",
       "      <td>1987-02-17</td>\n",
       "      <td>nao</td>\n",
       "      <td>SUL</td>\n",
       "      <td>RS</td>\n",
       "      <td>santo angelo</td>\n",
       "      <td>34.0</td>\n",
       "    </tr>\n",
       "    <tr>\n",
       "      <th>1</th>\n",
       "      <td>2005</td>\n",
       "      <td>423</td>\n",
       "      <td>UNIVERSIDADE REGIONAL INTEGRADA DO ALTO URUGUA...</td>\n",
       "      <td>BOLSA PARCIAL 50%</td>\n",
       "      <td>PRESENCIAL</td>\n",
       "      <td>Servico Social</td>\n",
       "      <td>Noturno</td>\n",
       "      <td>***976940**</td>\n",
       "      <td>F</td>\n",
       "      <td>Parda</td>\n",
       "      <td>1986-06-14</td>\n",
       "      <td>nao</td>\n",
       "      <td>SUL</td>\n",
       "      <td>RS</td>\n",
       "      <td>frederico westphalen</td>\n",
       "      <td>35.0</td>\n",
       "    </tr>\n",
       "    <tr>\n",
       "      <th>2</th>\n",
       "      <td>2005</td>\n",
       "      <td>423</td>\n",
       "      <td>UNIVERSIDADE REGIONAL INTEGRADA DO ALTO URUGUA...</td>\n",
       "      <td>BOLSA PARCIAL 50%</td>\n",
       "      <td>PRESENCIAL</td>\n",
       "      <td>Servico Social</td>\n",
       "      <td>Noturno</td>\n",
       "      <td>***045340**</td>\n",
       "      <td>F</td>\n",
       "      <td>Parda</td>\n",
       "      <td>1984-06-03</td>\n",
       "      <td>nao</td>\n",
       "      <td>SUL</td>\n",
       "      <td>RS</td>\n",
       "      <td>frederico westphalen</td>\n",
       "      <td>37.0</td>\n",
       "    </tr>\n",
       "    <tr>\n",
       "      <th>3</th>\n",
       "      <td>2005</td>\n",
       "      <td>423</td>\n",
       "      <td>UNIVERSIDADE REGIONAL INTEGRADA DO ALTO URUGUA...</td>\n",
       "      <td>BOLSA PARCIAL 50%</td>\n",
       "      <td>PRESENCIAL</td>\n",
       "      <td>Ciencia Da Computacao</td>\n",
       "      <td>Noturno</td>\n",
       "      <td>***988420**</td>\n",
       "      <td>M</td>\n",
       "      <td>Branca</td>\n",
       "      <td>1987-10-19</td>\n",
       "      <td>nao</td>\n",
       "      <td>SUL</td>\n",
       "      <td>RS</td>\n",
       "      <td>frederico westphalen</td>\n",
       "      <td>33.0</td>\n",
       "    </tr>\n",
       "    <tr>\n",
       "      <th>4</th>\n",
       "      <td>2005</td>\n",
       "      <td>423</td>\n",
       "      <td>UNIVERSIDADE REGIONAL INTEGRADA DO ALTO URUGUA...</td>\n",
       "      <td>BOLSA PARCIAL 50%</td>\n",
       "      <td>PRESENCIAL</td>\n",
       "      <td>Ciencia Da Computacao</td>\n",
       "      <td>Noturno</td>\n",
       "      <td>***378080**</td>\n",
       "      <td>M</td>\n",
       "      <td>Amarela</td>\n",
       "      <td>1987-07-20</td>\n",
       "      <td>nao</td>\n",
       "      <td>SUL</td>\n",
       "      <td>RS</td>\n",
       "      <td>frederico westphalen</td>\n",
       "      <td>34.0</td>\n",
       "    </tr>\n",
       "  </tbody>\n",
       "</table>\n",
       "</div>"
      ],
      "text/plain": [
       "    ano  codigo_emec                                       universidade  \\\n",
       "0  2005          423  UNIVERSIDADE REGIONAL INTEGRADA DO ALTO URUGUA...   \n",
       "1  2005          423  UNIVERSIDADE REGIONAL INTEGRADA DO ALTO URUGUA...   \n",
       "2  2005          423  UNIVERSIDADE REGIONAL INTEGRADA DO ALTO URUGUA...   \n",
       "3  2005          423  UNIVERSIDADE REGIONAL INTEGRADA DO ALTO URUGUA...   \n",
       "4  2005          423  UNIVERSIDADE REGIONAL INTEGRADA DO ALTO URUGUA...   \n",
       "\n",
       "          tipo_bolsa modalidade_ensino                  curso     turno  \\\n",
       "0  BOLSA PARCIAL 50%        PRESENCIAL             Enfermagem  Integral   \n",
       "1  BOLSA PARCIAL 50%        PRESENCIAL         Servico Social   Noturno   \n",
       "2  BOLSA PARCIAL 50%        PRESENCIAL         Servico Social   Noturno   \n",
       "3  BOLSA PARCIAL 50%        PRESENCIAL  Ciencia Da Computacao   Noturno   \n",
       "4  BOLSA PARCIAL 50%        PRESENCIAL  Ciencia Da Computacao   Noturno   \n",
       "\n",
       "  cpf_beneficiario sexo_beneficiario raca_beneficiario  \\\n",
       "0      ***264740**                 F            Branca   \n",
       "1      ***976940**                 F             Parda   \n",
       "2      ***045340**                 F             Parda   \n",
       "3      ***988420**                 M            Branca   \n",
       "4      ***378080**                 M           Amarela   \n",
       "\n",
       "  dt_nascimento_beneficiario  pcd regiao sigla_uf             municipio  idade  \n",
       "0                 1987-02-17  nao    SUL       RS          santo angelo   34.0  \n",
       "1                 1986-06-14  nao    SUL       RS  frederico westphalen   35.0  \n",
       "2                 1984-06-03  nao    SUL       RS  frederico westphalen   37.0  \n",
       "3                 1987-10-19  nao    SUL       RS  frederico westphalen   33.0  \n",
       "4                 1987-07-20  nao    SUL       RS  frederico westphalen   34.0  "
      ]
     },
     "execution_count": 35,
     "metadata": {},
     "output_type": "execute_result"
    }
   ],
   "source": [
    "df.head()"
   ]
  },
  {
   "cell_type": "markdown",
   "metadata": {},
   "source": [
    "### Tratamento 2\n",
    "<a id=\"tratamento-2\"></a>\n",
    "\n",
    "Aqui está o conteúdo do Tratamento 1..."
   ]
  },
  {
   "cell_type": "markdown",
   "metadata": {},
   "source": [
    "### Tratamento 3\n",
    "<a id=\"tratamento-3\"></a>\n",
    "\n",
    "Aqui está o conteúdo do Tratamento 1..."
   ]
  },
  {
   "cell_type": "markdown",
   "metadata": {},
   "source": [
    "### Tratamento 4\n",
    "<a id=\"tratamento-4\"></a>\n",
    "\n",
    "Aqui está o conteúdo do Tratamento 1..."
   ]
  },
  {
   "cell_type": "markdown",
   "metadata": {},
   "source": [
    "### Tratamento 5\n",
    "<a id=\"tratamento-5\"></a>\n",
    "\n",
    "Aqui está o conteúdo do Tratamento 1..."
   ]
  },
  {
   "cell_type": "markdown",
   "metadata": {},
   "source": [
    "### Tratamento 6\n",
    "<a id=\"tratamento-6\"></a>\n",
    "\n",
    "Aqui está o conteúdo do Tratamento 1..."
   ]
  },
  {
   "cell_type": "markdown",
   "metadata": {},
   "source": [
    "### Tratamento 7\n",
    "<a id=\"tratamento-7\"></a>\n",
    "\n",
    "Aqui está o conteúdo do Tratamento 1..."
   ]
  },
  {
   "cell_type": "markdown",
   "metadata": {},
   "source": [
    "## Exportação dos dados\n",
    "<a id=\"exp_data\"></a>"
   ]
  },
  {
   "cell_type": "markdown",
   "metadata": {},
   "source": []
  }
 ],
 "metadata": {
  "kernelspec": {
   "display_name": "Python 3",
   "language": "python",
   "name": "python3"
  },
  "language_info": {
   "codemirror_mode": {
    "name": "ipython",
    "version": 3
   },
   "file_extension": ".py",
   "mimetype": "text/x-python",
   "name": "python",
   "nbconvert_exporter": "python",
   "pygments_lexer": "ipython3",
   "version": "3.11.4"
  },
  "orig_nbformat": 4
 },
 "nbformat": 4,
 "nbformat_minor": 2
}
